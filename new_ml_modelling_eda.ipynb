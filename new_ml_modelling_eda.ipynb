{
 "cells": [
  {
   "cell_type": "markdown",
   "id": "3bd28638",
   "metadata": {},
   "source": [
    "## Import the data"
   ]
  },
  {
   "cell_type": "code",
   "execution_count": 1,
   "id": "5f4cc9c4",
   "metadata": {},
   "outputs": [],
   "source": [
    "import pandas as pd\n",
    "import matplotlib.pyplot as plt\n",
    "import seaborn as sns\n",
    "import numpy as np\n",
    "from scipy import stats\n",
    "import numpy as np\n",
    "from sklearn.linear_model import LinearRegression\n",
    "from sklearn.metrics import mean_absolute_error"
   ]
  },
  {
   "cell_type": "code",
   "execution_count": 2,
   "id": "9be3d673",
   "metadata": {},
   "outputs": [],
   "source": [
    "df = pd.read_csv(\"new_ml_modelling dataset.csv\")"
   ]
  },
  {
   "cell_type": "markdown",
   "id": "57aca833",
   "metadata": {},
   "source": [
    "## Data Exploration"
   ]
  },
  {
   "cell_type": "code",
   "execution_count": 3,
   "id": "83f02384",
   "metadata": {
    "scrolled": true
   },
   "outputs": [
    {
     "name": "stdout",
     "output_type": "stream",
     "text": [
      "<class 'pandas.core.frame.DataFrame'>\n",
      "RangeIndex: 21762 entries, 0 to 21761\n",
      "Data columns (total 8 columns):\n",
      " #   Column                               Non-Null Count  Dtype  \n",
      "---  ------                               --------------  -----  \n",
      " 0   listing_uid                          21762 non-null  int64  \n",
      " 1   listing_lat                          20956 non-null  float64\n",
      " 2   listing_long                         20955 non-null  float64\n",
      " 3   unit_summary_history_bedrooms        18259 non-null  float64\n",
      " 4   unit_summary_history_property_type   20596 non-null  float64\n",
      " 5   unit_summary_history_price_per_sqft  20596 non-null  float64\n",
      " 6   new_listing_land_area_sqft           17951 non-null  float64\n",
      " 7   referrer_url                         4528 non-null   object \n",
      "dtypes: float64(6), int64(1), object(1)\n",
      "memory usage: 1.3+ MB\n"
     ]
    }
   ],
   "source": [
    "df.info()"
   ]
  },
  {
   "cell_type": "code",
   "execution_count": 4,
   "id": "c1e06259",
   "metadata": {},
   "outputs": [
    {
     "data": {
      "text/plain": [
       "listing_uid                                0\n",
       "listing_lat                              806\n",
       "listing_long                             807\n",
       "unit_summary_history_bedrooms           3503\n",
       "unit_summary_history_property_type      1166\n",
       "unit_summary_history_price_per_sqft     1166\n",
       "new_listing_land_area_sqft              3811\n",
       "referrer_url                           17234\n",
       "dtype: int64"
      ]
     },
     "execution_count": 4,
     "metadata": {},
     "output_type": "execute_result"
    }
   ],
   "source": [
    "df.isna().sum()"
   ]
  },
  {
   "cell_type": "code",
   "execution_count": 5,
   "id": "3ff063ae",
   "metadata": {},
   "outputs": [
    {
     "data": {
      "text/html": [
       "<div>\n",
       "<style scoped>\n",
       "    .dataframe tbody tr th:only-of-type {\n",
       "        vertical-align: middle;\n",
       "    }\n",
       "\n",
       "    .dataframe tbody tr th {\n",
       "        vertical-align: top;\n",
       "    }\n",
       "\n",
       "    .dataframe thead th {\n",
       "        text-align: right;\n",
       "    }\n",
       "</style>\n",
       "<table border=\"1\" class=\"dataframe\">\n",
       "  <thead>\n",
       "    <tr style=\"text-align: right;\">\n",
       "      <th></th>\n",
       "      <th>listing_uid</th>\n",
       "      <th>listing_lat</th>\n",
       "      <th>listing_long</th>\n",
       "      <th>unit_summary_history_bedrooms</th>\n",
       "      <th>unit_summary_history_property_type</th>\n",
       "      <th>unit_summary_history_price_per_sqft</th>\n",
       "      <th>new_listing_land_area_sqft</th>\n",
       "    </tr>\n",
       "  </thead>\n",
       "  <tbody>\n",
       "    <tr>\n",
       "      <th>count</th>\n",
       "      <td>21762.000000</td>\n",
       "      <td>20956.000000</td>\n",
       "      <td>20955.000000</td>\n",
       "      <td>18259.000000</td>\n",
       "      <td>20596.000000</td>\n",
       "      <td>20596.000000</td>\n",
       "      <td>1.795100e+04</td>\n",
       "    </tr>\n",
       "    <tr>\n",
       "      <th>mean</th>\n",
       "      <td>20342.591949</td>\n",
       "      <td>15.694936</td>\n",
       "      <td>77.247637</td>\n",
       "      <td>2.418561</td>\n",
       "      <td>1.664692</td>\n",
       "      <td>6513.387454</td>\n",
       "      <td>1.517732e+05</td>\n",
       "    </tr>\n",
       "    <tr>\n",
       "      <th>std</th>\n",
       "      <td>14556.639125</td>\n",
       "      <td>19.531474</td>\n",
       "      <td>18.669638</td>\n",
       "      <td>0.875770</td>\n",
       "      <td>1.590582</td>\n",
       "      <td>7400.045335</td>\n",
       "      <td>5.206370e+06</td>\n",
       "    </tr>\n",
       "    <tr>\n",
       "      <th>min</th>\n",
       "      <td>1.000000</td>\n",
       "      <td>1.001000</td>\n",
       "      <td>-180.000000</td>\n",
       "      <td>0.500000</td>\n",
       "      <td>1.000000</td>\n",
       "      <td>0.000000</td>\n",
       "      <td>0.000000e+00</td>\n",
       "    </tr>\n",
       "    <tr>\n",
       "      <th>25%</th>\n",
       "      <td>5644.250000</td>\n",
       "      <td>12.927944</td>\n",
       "      <td>73.307915</td>\n",
       "      <td>2.000000</td>\n",
       "      <td>1.000000</td>\n",
       "      <td>3285.000000</td>\n",
       "      <td>0.000000e+00</td>\n",
       "    </tr>\n",
       "    <tr>\n",
       "      <th>50%</th>\n",
       "      <td>20188.500000</td>\n",
       "      <td>13.074141</td>\n",
       "      <td>77.663556</td>\n",
       "      <td>3.000000</td>\n",
       "      <td>1.000000</td>\n",
       "      <td>4500.000000</td>\n",
       "      <td>0.000000e+00</td>\n",
       "    </tr>\n",
       "    <tr>\n",
       "      <th>75%</th>\n",
       "      <td>33766.500000</td>\n",
       "      <td>18.960895</td>\n",
       "      <td>80.060814</td>\n",
       "      <td>3.000000</td>\n",
       "      <td>1.000000</td>\n",
       "      <td>6714.500000</td>\n",
       "      <td>0.000000e+00</td>\n",
       "    </tr>\n",
       "    <tr>\n",
       "      <th>max</th>\n",
       "      <td>44989.000000</td>\n",
       "      <td>1000.000000</td>\n",
       "      <td>1000.000000</td>\n",
       "      <td>7.000000</td>\n",
       "      <td>6.000000</td>\n",
       "      <td>202000.000000</td>\n",
       "      <td>5.227200e+08</td>\n",
       "    </tr>\n",
       "  </tbody>\n",
       "</table>\n",
       "</div>"
      ],
      "text/plain": [
       "        listing_uid   listing_lat  listing_long  \\\n",
       "count  21762.000000  20956.000000  20955.000000   \n",
       "mean   20342.591949     15.694936     77.247637   \n",
       "std    14556.639125     19.531474     18.669638   \n",
       "min        1.000000      1.001000   -180.000000   \n",
       "25%     5644.250000     12.927944     73.307915   \n",
       "50%    20188.500000     13.074141     77.663556   \n",
       "75%    33766.500000     18.960895     80.060814   \n",
       "max    44989.000000   1000.000000   1000.000000   \n",
       "\n",
       "       unit_summary_history_bedrooms  unit_summary_history_property_type  \\\n",
       "count                   18259.000000                        20596.000000   \n",
       "mean                        2.418561                            1.664692   \n",
       "std                         0.875770                            1.590582   \n",
       "min                         0.500000                            1.000000   \n",
       "25%                         2.000000                            1.000000   \n",
       "50%                         3.000000                            1.000000   \n",
       "75%                         3.000000                            1.000000   \n",
       "max                         7.000000                            6.000000   \n",
       "\n",
       "       unit_summary_history_price_per_sqft  new_listing_land_area_sqft  \n",
       "count                         20596.000000                1.795100e+04  \n",
       "mean                           6513.387454                1.517732e+05  \n",
       "std                            7400.045335                5.206370e+06  \n",
       "min                               0.000000                0.000000e+00  \n",
       "25%                            3285.000000                0.000000e+00  \n",
       "50%                            4500.000000                0.000000e+00  \n",
       "75%                            6714.500000                0.000000e+00  \n",
       "max                          202000.000000                5.227200e+08  "
      ]
     },
     "execution_count": 5,
     "metadata": {},
     "output_type": "execute_result"
    }
   ],
   "source": [
    "df.describe()"
   ]
  },
  {
   "cell_type": "markdown",
   "id": "a9bc6e47",
   "metadata": {},
   "source": [
    "## Removing duplicates"
   ]
  },
  {
   "cell_type": "code",
   "execution_count": 6,
   "id": "f4b23c22",
   "metadata": {},
   "outputs": [
    {
     "data": {
      "text/html": [
       "<div>\n",
       "<style scoped>\n",
       "    .dataframe tbody tr th:only-of-type {\n",
       "        vertical-align: middle;\n",
       "    }\n",
       "\n",
       "    .dataframe tbody tr th {\n",
       "        vertical-align: top;\n",
       "    }\n",
       "\n",
       "    .dataframe thead th {\n",
       "        text-align: right;\n",
       "    }\n",
       "</style>\n",
       "<table border=\"1\" class=\"dataframe\">\n",
       "  <thead>\n",
       "    <tr style=\"text-align: right;\">\n",
       "      <th></th>\n",
       "      <th>listing_uid</th>\n",
       "      <th>listing_lat</th>\n",
       "      <th>listing_long</th>\n",
       "      <th>unit_summary_history_bedrooms</th>\n",
       "      <th>unit_summary_history_property_type</th>\n",
       "      <th>unit_summary_history_price_per_sqft</th>\n",
       "      <th>new_listing_land_area_sqft</th>\n",
       "    </tr>\n",
       "  </thead>\n",
       "  <tbody>\n",
       "    <tr>\n",
       "      <th>count</th>\n",
       "      <td>21762.000000</td>\n",
       "      <td>20956.000000</td>\n",
       "      <td>20955.000000</td>\n",
       "      <td>18259.000000</td>\n",
       "      <td>20596.000000</td>\n",
       "      <td>20596.000000</td>\n",
       "      <td>1.795100e+04</td>\n",
       "    </tr>\n",
       "    <tr>\n",
       "      <th>mean</th>\n",
       "      <td>20342.591949</td>\n",
       "      <td>15.694936</td>\n",
       "      <td>77.247637</td>\n",
       "      <td>2.418561</td>\n",
       "      <td>1.664692</td>\n",
       "      <td>6513.387454</td>\n",
       "      <td>1.517732e+05</td>\n",
       "    </tr>\n",
       "    <tr>\n",
       "      <th>std</th>\n",
       "      <td>14556.639125</td>\n",
       "      <td>19.531474</td>\n",
       "      <td>18.669638</td>\n",
       "      <td>0.875770</td>\n",
       "      <td>1.590582</td>\n",
       "      <td>7400.045335</td>\n",
       "      <td>5.206370e+06</td>\n",
       "    </tr>\n",
       "    <tr>\n",
       "      <th>min</th>\n",
       "      <td>1.000000</td>\n",
       "      <td>1.001000</td>\n",
       "      <td>-180.000000</td>\n",
       "      <td>0.500000</td>\n",
       "      <td>1.000000</td>\n",
       "      <td>0.000000</td>\n",
       "      <td>0.000000e+00</td>\n",
       "    </tr>\n",
       "    <tr>\n",
       "      <th>25%</th>\n",
       "      <td>5644.250000</td>\n",
       "      <td>12.927944</td>\n",
       "      <td>73.307915</td>\n",
       "      <td>2.000000</td>\n",
       "      <td>1.000000</td>\n",
       "      <td>3285.000000</td>\n",
       "      <td>0.000000e+00</td>\n",
       "    </tr>\n",
       "    <tr>\n",
       "      <th>50%</th>\n",
       "      <td>20188.500000</td>\n",
       "      <td>13.074141</td>\n",
       "      <td>77.663556</td>\n",
       "      <td>3.000000</td>\n",
       "      <td>1.000000</td>\n",
       "      <td>4500.000000</td>\n",
       "      <td>0.000000e+00</td>\n",
       "    </tr>\n",
       "    <tr>\n",
       "      <th>75%</th>\n",
       "      <td>33766.500000</td>\n",
       "      <td>18.960895</td>\n",
       "      <td>80.060814</td>\n",
       "      <td>3.000000</td>\n",
       "      <td>1.000000</td>\n",
       "      <td>6714.500000</td>\n",
       "      <td>0.000000e+00</td>\n",
       "    </tr>\n",
       "    <tr>\n",
       "      <th>max</th>\n",
       "      <td>44989.000000</td>\n",
       "      <td>1000.000000</td>\n",
       "      <td>1000.000000</td>\n",
       "      <td>7.000000</td>\n",
       "      <td>6.000000</td>\n",
       "      <td>202000.000000</td>\n",
       "      <td>5.227200e+08</td>\n",
       "    </tr>\n",
       "  </tbody>\n",
       "</table>\n",
       "</div>"
      ],
      "text/plain": [
       "        listing_uid   listing_lat  listing_long  \\\n",
       "count  21762.000000  20956.000000  20955.000000   \n",
       "mean   20342.591949     15.694936     77.247637   \n",
       "std    14556.639125     19.531474     18.669638   \n",
       "min        1.000000      1.001000   -180.000000   \n",
       "25%     5644.250000     12.927944     73.307915   \n",
       "50%    20188.500000     13.074141     77.663556   \n",
       "75%    33766.500000     18.960895     80.060814   \n",
       "max    44989.000000   1000.000000   1000.000000   \n",
       "\n",
       "       unit_summary_history_bedrooms  unit_summary_history_property_type  \\\n",
       "count                   18259.000000                        20596.000000   \n",
       "mean                        2.418561                            1.664692   \n",
       "std                         0.875770                            1.590582   \n",
       "min                         0.500000                            1.000000   \n",
       "25%                         2.000000                            1.000000   \n",
       "50%                         3.000000                            1.000000   \n",
       "75%                         3.000000                            1.000000   \n",
       "max                         7.000000                            6.000000   \n",
       "\n",
       "       unit_summary_history_price_per_sqft  new_listing_land_area_sqft  \n",
       "count                         20596.000000                1.795100e+04  \n",
       "mean                           6513.387454                1.517732e+05  \n",
       "std                            7400.045335                5.206370e+06  \n",
       "min                               0.000000                0.000000e+00  \n",
       "25%                            3285.000000                0.000000e+00  \n",
       "50%                            4500.000000                0.000000e+00  \n",
       "75%                            6714.500000                0.000000e+00  \n",
       "max                          202000.000000                5.227200e+08  "
      ]
     },
     "execution_count": 6,
     "metadata": {},
     "output_type": "execute_result"
    }
   ],
   "source": [
    "df = df.drop_duplicates(subset=['listing_uid'], keep='last')\n",
    "df = df.reset_index(drop=True)\n",
    "df.describe()"
   ]
  },
  {
   "cell_type": "markdown",
   "id": "13f56813",
   "metadata": {},
   "source": [
    "## Removing and outliers"
   ]
  },
  {
   "cell_type": "code",
   "execution_count": 7,
   "id": "37ee51e8",
   "metadata": {
    "scrolled": false
   },
   "outputs": [
    {
     "data": {
      "text/html": [
       "<div>\n",
       "<style scoped>\n",
       "    .dataframe tbody tr th:only-of-type {\n",
       "        vertical-align: middle;\n",
       "    }\n",
       "\n",
       "    .dataframe tbody tr th {\n",
       "        vertical-align: top;\n",
       "    }\n",
       "\n",
       "    .dataframe thead th {\n",
       "        text-align: right;\n",
       "    }\n",
       "</style>\n",
       "<table border=\"1\" class=\"dataframe\">\n",
       "  <thead>\n",
       "    <tr style=\"text-align: right;\">\n",
       "      <th></th>\n",
       "      <th>listing_uid</th>\n",
       "      <th>listing_lat</th>\n",
       "      <th>listing_long</th>\n",
       "      <th>unit_summary_history_bedrooms</th>\n",
       "      <th>unit_summary_history_property_type</th>\n",
       "      <th>unit_summary_history_price_per_sqft</th>\n",
       "      <th>new_listing_land_area_sqft</th>\n",
       "    </tr>\n",
       "  </thead>\n",
       "  <tbody>\n",
       "    <tr>\n",
       "      <th>count</th>\n",
       "      <td>20159.000000</td>\n",
       "      <td>19604.000000</td>\n",
       "      <td>19603.000000</td>\n",
       "      <td>18039.000000</td>\n",
       "      <td>20159.000000</td>\n",
       "      <td>20159.000000</td>\n",
       "      <td>1.715100e+04</td>\n",
       "    </tr>\n",
       "    <tr>\n",
       "      <th>mean</th>\n",
       "      <td>20158.878913</td>\n",
       "      <td>15.330867</td>\n",
       "      <td>76.912692</td>\n",
       "      <td>2.412246</td>\n",
       "      <td>1.624535</td>\n",
       "      <td>6084.529143</td>\n",
       "      <td>1.479963e+05</td>\n",
       "    </tr>\n",
       "    <tr>\n",
       "      <th>std</th>\n",
       "      <td>14335.432907</td>\n",
       "      <td>3.227095</td>\n",
       "      <td>3.356603</td>\n",
       "      <td>0.873200</td>\n",
       "      <td>1.541326</td>\n",
       "      <td>5221.376160</td>\n",
       "      <td>5.303665e+06</td>\n",
       "    </tr>\n",
       "    <tr>\n",
       "      <th>min</th>\n",
       "      <td>1.000000</td>\n",
       "      <td>1.001000</td>\n",
       "      <td>0.000000</td>\n",
       "      <td>0.500000</td>\n",
       "      <td>1.000000</td>\n",
       "      <td>301.000000</td>\n",
       "      <td>0.000000e+00</td>\n",
       "    </tr>\n",
       "    <tr>\n",
       "      <th>25%</th>\n",
       "      <td>5662.000000</td>\n",
       "      <td>12.928136</td>\n",
       "      <td>73.250084</td>\n",
       "      <td>2.000000</td>\n",
       "      <td>1.000000</td>\n",
       "      <td>3300.000000</td>\n",
       "      <td>0.000000e+00</td>\n",
       "    </tr>\n",
       "    <tr>\n",
       "      <th>50%</th>\n",
       "      <td>20184.000000</td>\n",
       "      <td>13.076779</td>\n",
       "      <td>77.659124</td>\n",
       "      <td>3.000000</td>\n",
       "      <td>1.000000</td>\n",
       "      <td>4500.000000</td>\n",
       "      <td>0.000000e+00</td>\n",
       "    </tr>\n",
       "    <tr>\n",
       "      <th>75%</th>\n",
       "      <td>33469.500000</td>\n",
       "      <td>18.964374</td>\n",
       "      <td>80.046529</td>\n",
       "      <td>3.000000</td>\n",
       "      <td>1.000000</td>\n",
       "      <td>6580.000000</td>\n",
       "      <td>0.000000e+00</td>\n",
       "    </tr>\n",
       "    <tr>\n",
       "      <th>max</th>\n",
       "      <td>44415.000000</td>\n",
       "      <td>80.227645</td>\n",
       "      <td>96.780000</td>\n",
       "      <td>7.000000</td>\n",
       "      <td>6.000000</td>\n",
       "      <td>37962.000000</td>\n",
       "      <td>5.227200e+08</td>\n",
       "    </tr>\n",
       "  </tbody>\n",
       "</table>\n",
       "</div>"
      ],
      "text/plain": [
       "        listing_uid   listing_lat  listing_long  \\\n",
       "count  20159.000000  19604.000000  19603.000000   \n",
       "mean   20158.878913     15.330867     76.912692   \n",
       "std    14335.432907      3.227095      3.356603   \n",
       "min        1.000000      1.001000      0.000000   \n",
       "25%     5662.000000     12.928136     73.250084   \n",
       "50%    20184.000000     13.076779     77.659124   \n",
       "75%    33469.500000     18.964374     80.046529   \n",
       "max    44415.000000     80.227645     96.780000   \n",
       "\n",
       "       unit_summary_history_bedrooms  unit_summary_history_property_type  \\\n",
       "count                   18039.000000                        20159.000000   \n",
       "mean                        2.412246                            1.624535   \n",
       "std                         0.873200                            1.541326   \n",
       "min                         0.500000                            1.000000   \n",
       "25%                         2.000000                            1.000000   \n",
       "50%                         3.000000                            1.000000   \n",
       "75%                         3.000000                            1.000000   \n",
       "max                         7.000000                            6.000000   \n",
       "\n",
       "       unit_summary_history_price_per_sqft  new_listing_land_area_sqft  \n",
       "count                         20159.000000                1.715100e+04  \n",
       "mean                           6084.529143                1.479963e+05  \n",
       "std                            5221.376160                5.303665e+06  \n",
       "min                             301.000000                0.000000e+00  \n",
       "25%                            3300.000000                0.000000e+00  \n",
       "50%                            4500.000000                0.000000e+00  \n",
       "75%                            6580.000000                0.000000e+00  \n",
       "max                           37962.000000                5.227200e+08  "
      ]
     },
     "execution_count": 7,
     "metadata": {},
     "output_type": "execute_result"
    }
   ],
   "source": [
    "low = df[\"unit_summary_history_price_per_sqft\"].quantile(0.01)\n",
    "high = df[\"unit_summary_history_price_per_sqft\"].quantile(0.99)\n",
    "df = df[(df[\"unit_summary_history_price_per_sqft\"] < high) & (df[\"unit_summary_history_price_per_sqft\"] > low)]\n",
    "df.describe()"
   ]
  },
  {
   "cell_type": "code",
   "execution_count": 8,
   "id": "ff43e311",
   "metadata": {
    "scrolled": true
   },
   "outputs": [],
   "source": [
    "df[\"property_price\"] = df[\"new_listing_land_area_sqft\"]*df[\"unit_summary_history_price_per_sqft\"]"
   ]
  },
  {
   "cell_type": "code",
   "execution_count": 9,
   "id": "c9bc2480",
   "metadata": {
    "scrolled": true
   },
   "outputs": [
    {
     "data": {
      "text/html": [
       "<div>\n",
       "<style scoped>\n",
       "    .dataframe tbody tr th:only-of-type {\n",
       "        vertical-align: middle;\n",
       "    }\n",
       "\n",
       "    .dataframe tbody tr th {\n",
       "        vertical-align: top;\n",
       "    }\n",
       "\n",
       "    .dataframe thead th {\n",
       "        text-align: right;\n",
       "    }\n",
       "</style>\n",
       "<table border=\"1\" class=\"dataframe\">\n",
       "  <thead>\n",
       "    <tr style=\"text-align: right;\">\n",
       "      <th></th>\n",
       "      <th>listing_uid</th>\n",
       "      <th>listing_lat</th>\n",
       "      <th>listing_long</th>\n",
       "      <th>unit_summary_history_bedrooms</th>\n",
       "      <th>unit_summary_history_property_type</th>\n",
       "      <th>unit_summary_history_price_per_sqft</th>\n",
       "      <th>new_listing_land_area_sqft</th>\n",
       "      <th>referrer_url</th>\n",
       "      <th>property_price</th>\n",
       "    </tr>\n",
       "  </thead>\n",
       "  <tbody>\n",
       "    <tr>\n",
       "      <th>0</th>\n",
       "      <td>1</td>\n",
       "      <td>12.925720</td>\n",
       "      <td>80.117406</td>\n",
       "      <td>3.0</td>\n",
       "      <td>1.0</td>\n",
       "      <td>4000.0</td>\n",
       "      <td>0.0</td>\n",
       "      <td>https://roofandfloor.com/acchyuthans-shivam-ta...</td>\n",
       "      <td>0.000000e+00</td>\n",
       "    </tr>\n",
       "    <tr>\n",
       "      <th>1</th>\n",
       "      <td>2</td>\n",
       "      <td>13.131193</td>\n",
       "      <td>77.569301</td>\n",
       "      <td>3.0</td>\n",
       "      <td>1.0</td>\n",
       "      <td>3300.0</td>\n",
       "      <td>6534.0</td>\n",
       "      <td>https://roofandfloor.com/1-bhk-apartments-flat...</td>\n",
       "      <td>2.156220e+07</td>\n",
       "    </tr>\n",
       "    <tr>\n",
       "      <th>2</th>\n",
       "      <td>3</td>\n",
       "      <td>13.022794</td>\n",
       "      <td>77.484438</td>\n",
       "      <td>3.0</td>\n",
       "      <td>2.0</td>\n",
       "      <td>4257.0</td>\n",
       "      <td>4530240.0</td>\n",
       "      <td>https://roofandfloor.com/3-bhk-villas-bluejay-...</td>\n",
       "      <td>1.928523e+10</td>\n",
       "    </tr>\n",
       "    <tr>\n",
       "      <th>3</th>\n",
       "      <td>4</td>\n",
       "      <td>13.032640</td>\n",
       "      <td>80.157532</td>\n",
       "      <td>3.0</td>\n",
       "      <td>1.0</td>\n",
       "      <td>5499.0</td>\n",
       "      <td>0.0</td>\n",
       "      <td>https://roofandfloor.com/apartments-flats-for-...</td>\n",
       "      <td>0.000000e+00</td>\n",
       "    </tr>\n",
       "    <tr>\n",
       "      <th>4</th>\n",
       "      <td>5</td>\n",
       "      <td>12.953295</td>\n",
       "      <td>80.170938</td>\n",
       "      <td>3.0</td>\n",
       "      <td>1.0</td>\n",
       "      <td>4600.0</td>\n",
       "      <td>0.0</td>\n",
       "      <td>0</td>\n",
       "      <td>0.000000e+00</td>\n",
       "    </tr>\n",
       "    <tr>\n",
       "      <th>...</th>\n",
       "      <td>...</td>\n",
       "      <td>...</td>\n",
       "      <td>...</td>\n",
       "      <td>...</td>\n",
       "      <td>...</td>\n",
       "      <td>...</td>\n",
       "      <td>...</td>\n",
       "      <td>...</td>\n",
       "      <td>...</td>\n",
       "    </tr>\n",
       "    <tr>\n",
       "      <th>21378</th>\n",
       "      <td>44400</td>\n",
       "      <td>28.680582</td>\n",
       "      <td>77.293030</td>\n",
       "      <td>3.0</td>\n",
       "      <td>1.0</td>\n",
       "      <td>7500.0</td>\n",
       "      <td>87120.0</td>\n",
       "      <td>https://qa.roofandfloor.com/delhi/ahinsha-vati...</td>\n",
       "      <td>6.534000e+08</td>\n",
       "    </tr>\n",
       "    <tr>\n",
       "      <th>21379</th>\n",
       "      <td>44401</td>\n",
       "      <td>28.391565</td>\n",
       "      <td>77.526778</td>\n",
       "      <td>1.0</td>\n",
       "      <td>1.0</td>\n",
       "      <td>2600.0</td>\n",
       "      <td>0.0</td>\n",
       "      <td>http://localhost:3002/delhi/hba-techzone-resid...</td>\n",
       "      <td>0.000000e+00</td>\n",
       "    </tr>\n",
       "    <tr>\n",
       "      <th>21381</th>\n",
       "      <td>44411</td>\n",
       "      <td>12.973698</td>\n",
       "      <td>77.607097</td>\n",
       "      <td>3.0</td>\n",
       "      <td>1.0</td>\n",
       "      <td>10000.0</td>\n",
       "      <td>0.0</td>\n",
       "      <td>https://qa.roofandfloor.com/bangalore/salarpur...</td>\n",
       "      <td>0.000000e+00</td>\n",
       "    </tr>\n",
       "    <tr>\n",
       "      <th>21382</th>\n",
       "      <td>44414</td>\n",
       "      <td>13.033643</td>\n",
       "      <td>80.250518</td>\n",
       "      <td>1.0</td>\n",
       "      <td>1.0</td>\n",
       "      <td>1000.0</td>\n",
       "      <td>300.0</td>\n",
       "      <td>https://qa.roofandfloor.com/chennai/testprojec...</td>\n",
       "      <td>3.000000e+05</td>\n",
       "    </tr>\n",
       "    <tr>\n",
       "      <th>21383</th>\n",
       "      <td>44415</td>\n",
       "      <td>0.000000</td>\n",
       "      <td>0.000000</td>\n",
       "      <td>2.0</td>\n",
       "      <td>1.0</td>\n",
       "      <td>800.0</td>\n",
       "      <td>0.0</td>\n",
       "      <td>0</td>\n",
       "      <td>0.000000e+00</td>\n",
       "    </tr>\n",
       "  </tbody>\n",
       "</table>\n",
       "<p>20159 rows × 9 columns</p>\n",
       "</div>"
      ],
      "text/plain": [
       "       listing_uid  listing_lat  listing_long  unit_summary_history_bedrooms  \\\n",
       "0                1    12.925720     80.117406                            3.0   \n",
       "1                2    13.131193     77.569301                            3.0   \n",
       "2                3    13.022794     77.484438                            3.0   \n",
       "3                4    13.032640     80.157532                            3.0   \n",
       "4                5    12.953295     80.170938                            3.0   \n",
       "...            ...          ...           ...                            ...   \n",
       "21378        44400    28.680582     77.293030                            3.0   \n",
       "21379        44401    28.391565     77.526778                            1.0   \n",
       "21381        44411    12.973698     77.607097                            3.0   \n",
       "21382        44414    13.033643     80.250518                            1.0   \n",
       "21383        44415     0.000000      0.000000                            2.0   \n",
       "\n",
       "       unit_summary_history_property_type  \\\n",
       "0                                     1.0   \n",
       "1                                     1.0   \n",
       "2                                     2.0   \n",
       "3                                     1.0   \n",
       "4                                     1.0   \n",
       "...                                   ...   \n",
       "21378                                 1.0   \n",
       "21379                                 1.0   \n",
       "21381                                 1.0   \n",
       "21382                                 1.0   \n",
       "21383                                 1.0   \n",
       "\n",
       "       unit_summary_history_price_per_sqft  new_listing_land_area_sqft  \\\n",
       "0                                   4000.0                         0.0   \n",
       "1                                   3300.0                      6534.0   \n",
       "2                                   4257.0                   4530240.0   \n",
       "3                                   5499.0                         0.0   \n",
       "4                                   4600.0                         0.0   \n",
       "...                                    ...                         ...   \n",
       "21378                               7500.0                     87120.0   \n",
       "21379                               2600.0                         0.0   \n",
       "21381                              10000.0                         0.0   \n",
       "21382                               1000.0                       300.0   \n",
       "21383                                800.0                         0.0   \n",
       "\n",
       "                                            referrer_url  property_price  \n",
       "0      https://roofandfloor.com/acchyuthans-shivam-ta...    0.000000e+00  \n",
       "1      https://roofandfloor.com/1-bhk-apartments-flat...    2.156220e+07  \n",
       "2      https://roofandfloor.com/3-bhk-villas-bluejay-...    1.928523e+10  \n",
       "3      https://roofandfloor.com/apartments-flats-for-...    0.000000e+00  \n",
       "4                                                      0    0.000000e+00  \n",
       "...                                                  ...             ...  \n",
       "21378  https://qa.roofandfloor.com/delhi/ahinsha-vati...    6.534000e+08  \n",
       "21379  http://localhost:3002/delhi/hba-techzone-resid...    0.000000e+00  \n",
       "21381  https://qa.roofandfloor.com/bangalore/salarpur...    0.000000e+00  \n",
       "21382  https://qa.roofandfloor.com/chennai/testprojec...    3.000000e+05  \n",
       "21383                                                  0    0.000000e+00  \n",
       "\n",
       "[20159 rows x 9 columns]"
      ]
     },
     "execution_count": 9,
     "metadata": {},
     "output_type": "execute_result"
    }
   ],
   "source": [
    "df.fillna(0)"
   ]
  },
  {
   "cell_type": "code",
   "execution_count": 10,
   "id": "3843fe9f",
   "metadata": {
    "scrolled": true
   },
   "outputs": [
    {
     "data": {
      "text/plain": [
       "listing_uid                               0\n",
       "listing_lat                             370\n",
       "listing_long                            370\n",
       "unit_summary_history_bedrooms           957\n",
       "unit_summary_history_property_type        0\n",
       "unit_summary_history_price_per_sqft       0\n",
       "new_listing_land_area_sqft             3008\n",
       "referrer_url                           4460\n",
       "property_price                         3008\n",
       "dtype: int64"
      ]
     },
     "execution_count": 10,
     "metadata": {},
     "output_type": "execute_result"
    }
   ],
   "source": [
    "df= df[df['property_price'] != 0]\n",
    "df.isna().sum()"
   ]
  },
  {
   "cell_type": "code",
   "execution_count": 11,
   "id": "3be1db39",
   "metadata": {
    "scrolled": false
   },
   "outputs": [
    {
     "data": {
      "text/html": [
       "<div>\n",
       "<style scoped>\n",
       "    .dataframe tbody tr th:only-of-type {\n",
       "        vertical-align: middle;\n",
       "    }\n",
       "\n",
       "    .dataframe tbody tr th {\n",
       "        vertical-align: top;\n",
       "    }\n",
       "\n",
       "    .dataframe thead th {\n",
       "        text-align: right;\n",
       "    }\n",
       "</style>\n",
       "<table border=\"1\" class=\"dataframe\">\n",
       "  <thead>\n",
       "    <tr style=\"text-align: right;\">\n",
       "      <th></th>\n",
       "      <th>listing_uid</th>\n",
       "      <th>listing_lat</th>\n",
       "      <th>listing_long</th>\n",
       "      <th>unit_summary_history_bedrooms</th>\n",
       "      <th>unit_summary_history_property_type</th>\n",
       "      <th>unit_summary_history_price_per_sqft</th>\n",
       "      <th>new_listing_land_area_sqft</th>\n",
       "      <th>property_price</th>\n",
       "    </tr>\n",
       "  </thead>\n",
       "  <tbody>\n",
       "    <tr>\n",
       "      <th>count</th>\n",
       "      <td>2860.000000</td>\n",
       "      <td>2844.000000</td>\n",
       "      <td>2844.000000</td>\n",
       "      <td>2515.000000</td>\n",
       "      <td>2860.000000</td>\n",
       "      <td>2860.000000</td>\n",
       "      <td>2.860000e+03</td>\n",
       "      <td>2.860000e+03</td>\n",
       "    </tr>\n",
       "    <tr>\n",
       "      <th>mean</th>\n",
       "      <td>21317.305944</td>\n",
       "      <td>15.282904</td>\n",
       "      <td>76.866160</td>\n",
       "      <td>2.486282</td>\n",
       "      <td>1.720280</td>\n",
       "      <td>5082.304895</td>\n",
       "      <td>1.800724e+05</td>\n",
       "      <td>5.629390e+08</td>\n",
       "    </tr>\n",
       "    <tr>\n",
       "      <th>std</th>\n",
       "      <td>15889.385656</td>\n",
       "      <td>2.982431</td>\n",
       "      <td>3.491003</td>\n",
       "      <td>0.873862</td>\n",
       "      <td>1.625503</td>\n",
       "      <td>4031.380737</td>\n",
       "      <td>3.483537e+05</td>\n",
       "      <td>7.078068e+08</td>\n",
       "    </tr>\n",
       "    <tr>\n",
       "      <th>min</th>\n",
       "      <td>2.000000</td>\n",
       "      <td>1.001000</td>\n",
       "      <td>1.010000</td>\n",
       "      <td>1.000000</td>\n",
       "      <td>1.000000</td>\n",
       "      <td>315.000000</td>\n",
       "      <td>8.000000e-01</td>\n",
       "      <td>1.465300e+04</td>\n",
       "    </tr>\n",
       "    <tr>\n",
       "      <th>25%</th>\n",
       "      <td>4867.250000</td>\n",
       "      <td>12.925303</td>\n",
       "      <td>73.810543</td>\n",
       "      <td>2.000000</td>\n",
       "      <td>1.000000</td>\n",
       "      <td>3100.000000</td>\n",
       "      <td>1.173840e+04</td>\n",
       "      <td>5.316498e+07</td>\n",
       "    </tr>\n",
       "    <tr>\n",
       "      <th>50%</th>\n",
       "      <td>22752.000000</td>\n",
       "      <td>13.083379</td>\n",
       "      <td>77.662500</td>\n",
       "      <td>3.000000</td>\n",
       "      <td>1.000000</td>\n",
       "      <td>4000.000000</td>\n",
       "      <td>6.534000e+04</td>\n",
       "      <td>2.744280e+08</td>\n",
       "    </tr>\n",
       "    <tr>\n",
       "      <th>75%</th>\n",
       "      <td>37229.250000</td>\n",
       "      <td>18.590371</td>\n",
       "      <td>78.404441</td>\n",
       "      <td>3.000000</td>\n",
       "      <td>1.000000</td>\n",
       "      <td>5504.500000</td>\n",
       "      <td>1.960200e+05</td>\n",
       "      <td>7.840800e+08</td>\n",
       "    </tr>\n",
       "    <tr>\n",
       "      <th>max</th>\n",
       "      <td>44414.000000</td>\n",
       "      <td>56.290000</td>\n",
       "      <td>83.373847</td>\n",
       "      <td>6.000000</td>\n",
       "      <td>6.000000</td>\n",
       "      <td>37942.000000</td>\n",
       "      <td>4.356000e+06</td>\n",
       "      <td>3.177001e+09</td>\n",
       "    </tr>\n",
       "  </tbody>\n",
       "</table>\n",
       "</div>"
      ],
      "text/plain": [
       "        listing_uid  listing_lat  listing_long  unit_summary_history_bedrooms  \\\n",
       "count   2860.000000  2844.000000   2844.000000                    2515.000000   \n",
       "mean   21317.305944    15.282904     76.866160                       2.486282   \n",
       "std    15889.385656     2.982431      3.491003                       0.873862   \n",
       "min        2.000000     1.001000      1.010000                       1.000000   \n",
       "25%     4867.250000    12.925303     73.810543                       2.000000   \n",
       "50%    22752.000000    13.083379     77.662500                       3.000000   \n",
       "75%    37229.250000    18.590371     78.404441                       3.000000   \n",
       "max    44414.000000    56.290000     83.373847                       6.000000   \n",
       "\n",
       "       unit_summary_history_property_type  \\\n",
       "count                         2860.000000   \n",
       "mean                             1.720280   \n",
       "std                              1.625503   \n",
       "min                              1.000000   \n",
       "25%                              1.000000   \n",
       "50%                              1.000000   \n",
       "75%                              1.000000   \n",
       "max                              6.000000   \n",
       "\n",
       "       unit_summary_history_price_per_sqft  new_listing_land_area_sqft  \\\n",
       "count                          2860.000000                2.860000e+03   \n",
       "mean                           5082.304895                1.800724e+05   \n",
       "std                            4031.380737                3.483537e+05   \n",
       "min                             315.000000                8.000000e-01   \n",
       "25%                            3100.000000                1.173840e+04   \n",
       "50%                            4000.000000                6.534000e+04   \n",
       "75%                            5504.500000                1.960200e+05   \n",
       "max                           37942.000000                4.356000e+06   \n",
       "\n",
       "       property_price  \n",
       "count    2.860000e+03  \n",
       "mean     5.629390e+08  \n",
       "std      7.078068e+08  \n",
       "min      1.465300e+04  \n",
       "25%      5.316498e+07  \n",
       "50%      2.744280e+08  \n",
       "75%      7.840800e+08  \n",
       "max      3.177001e+09  "
      ]
     },
     "execution_count": 11,
     "metadata": {},
     "output_type": "execute_result"
    }
   ],
   "source": [
    "high = df[\"property_price\"].quantile(0.90)\n",
    "low = df[\"property_price\"].quantile(0.10)\n",
    "df = df[(df[\"property_price\"] < high)& (df[\"property_price\"] > low)]\n",
    "df.describe()"
   ]
  },
  {
   "cell_type": "code",
   "execution_count": 12,
   "id": "7925670b",
   "metadata": {},
   "outputs": [
    {
     "data": {
      "text/html": [
       "<div>\n",
       "<style scoped>\n",
       "    .dataframe tbody tr th:only-of-type {\n",
       "        vertical-align: middle;\n",
       "    }\n",
       "\n",
       "    .dataframe tbody tr th {\n",
       "        vertical-align: top;\n",
       "    }\n",
       "\n",
       "    .dataframe thead th {\n",
       "        text-align: right;\n",
       "    }\n",
       "</style>\n",
       "<table border=\"1\" class=\"dataframe\">\n",
       "  <thead>\n",
       "    <tr style=\"text-align: right;\">\n",
       "      <th></th>\n",
       "      <th>listing_uid</th>\n",
       "      <th>listing_lat</th>\n",
       "      <th>listing_long</th>\n",
       "      <th>unit_summary_history_bedrooms</th>\n",
       "      <th>unit_summary_history_property_type</th>\n",
       "      <th>unit_summary_history_price_per_sqft</th>\n",
       "      <th>new_listing_land_area_sqft</th>\n",
       "      <th>property_price</th>\n",
       "    </tr>\n",
       "  </thead>\n",
       "  <tbody>\n",
       "    <tr>\n",
       "      <th>count</th>\n",
       "      <td>2287.000000</td>\n",
       "      <td>2271.000000</td>\n",
       "      <td>2271.000000</td>\n",
       "      <td>2122.000000</td>\n",
       "      <td>2287.000000</td>\n",
       "      <td>2287.000000</td>\n",
       "      <td>2287.000000</td>\n",
       "      <td>2.287000e+03</td>\n",
       "    </tr>\n",
       "    <tr>\n",
       "      <th>mean</th>\n",
       "      <td>21344.834718</td>\n",
       "      <td>15.208928</td>\n",
       "      <td>76.969803</td>\n",
       "      <td>2.473374</td>\n",
       "      <td>1.463927</td>\n",
       "      <td>5088.176651</td>\n",
       "      <td>105898.863625</td>\n",
       "      <td>4.800447e+08</td>\n",
       "    </tr>\n",
       "    <tr>\n",
       "      <th>std</th>\n",
       "      <td>16109.090742</td>\n",
       "      <td>2.982475</td>\n",
       "      <td>3.318733</td>\n",
       "      <td>0.871587</td>\n",
       "      <td>1.310963</td>\n",
       "      <td>3592.841628</td>\n",
       "      <td>108736.694614</td>\n",
       "      <td>5.558762e+08</td>\n",
       "    </tr>\n",
       "    <tr>\n",
       "      <th>min</th>\n",
       "      <td>2.000000</td>\n",
       "      <td>8.720781</td>\n",
       "      <td>10.000000</td>\n",
       "      <td>1.000000</td>\n",
       "      <td>1.000000</td>\n",
       "      <td>315.000000</td>\n",
       "      <td>885.000000</td>\n",
       "      <td>5.000000e+05</td>\n",
       "    </tr>\n",
       "    <tr>\n",
       "      <th>25%</th>\n",
       "      <td>4727.500000</td>\n",
       "      <td>12.926588</td>\n",
       "      <td>73.852177</td>\n",
       "      <td>2.000000</td>\n",
       "      <td>1.000000</td>\n",
       "      <td>3250.000000</td>\n",
       "      <td>21172.200000</td>\n",
       "      <td>8.688042e+07</td>\n",
       "    </tr>\n",
       "    <tr>\n",
       "      <th>50%</th>\n",
       "      <td>22233.000000</td>\n",
       "      <td>13.069366</td>\n",
       "      <td>77.664976</td>\n",
       "      <td>3.000000</td>\n",
       "      <td>1.000000</td>\n",
       "      <td>4105.000000</td>\n",
       "      <td>65340.000000</td>\n",
       "      <td>2.744280e+08</td>\n",
       "    </tr>\n",
       "    <tr>\n",
       "      <th>75%</th>\n",
       "      <td>37891.000000</td>\n",
       "      <td>18.562064</td>\n",
       "      <td>78.474679</td>\n",
       "      <td>3.000000</td>\n",
       "      <td>1.000000</td>\n",
       "      <td>5524.500000</td>\n",
       "      <td>156816.000000</td>\n",
       "      <td>6.586272e+08</td>\n",
       "    </tr>\n",
       "    <tr>\n",
       "      <th>max</th>\n",
       "      <td>44400.000000</td>\n",
       "      <td>56.290000</td>\n",
       "      <td>83.373847</td>\n",
       "      <td>5.000000</td>\n",
       "      <td>6.000000</td>\n",
       "      <td>37942.000000</td>\n",
       "      <td>435600.000000</td>\n",
       "      <td>3.160104e+09</td>\n",
       "    </tr>\n",
       "  </tbody>\n",
       "</table>\n",
       "</div>"
      ],
      "text/plain": [
       "        listing_uid  listing_lat  listing_long  unit_summary_history_bedrooms  \\\n",
       "count   2287.000000  2271.000000   2271.000000                    2122.000000   \n",
       "mean   21344.834718    15.208928     76.969803                       2.473374   \n",
       "std    16109.090742     2.982475      3.318733                       0.871587   \n",
       "min        2.000000     8.720781     10.000000                       1.000000   \n",
       "25%     4727.500000    12.926588     73.852177                       2.000000   \n",
       "50%    22233.000000    13.069366     77.664976                       3.000000   \n",
       "75%    37891.000000    18.562064     78.474679                       3.000000   \n",
       "max    44400.000000    56.290000     83.373847                       5.000000   \n",
       "\n",
       "       unit_summary_history_property_type  \\\n",
       "count                         2287.000000   \n",
       "mean                             1.463927   \n",
       "std                              1.310963   \n",
       "min                              1.000000   \n",
       "25%                              1.000000   \n",
       "50%                              1.000000   \n",
       "75%                              1.000000   \n",
       "max                              6.000000   \n",
       "\n",
       "       unit_summary_history_price_per_sqft  new_listing_land_area_sqft  \\\n",
       "count                          2287.000000                 2287.000000   \n",
       "mean                           5088.176651               105898.863625   \n",
       "std                            3592.841628               108736.694614   \n",
       "min                             315.000000                  885.000000   \n",
       "25%                            3250.000000                21172.200000   \n",
       "50%                            4105.000000                65340.000000   \n",
       "75%                            5524.500000               156816.000000   \n",
       "max                           37942.000000               435600.000000   \n",
       "\n",
       "       property_price  \n",
       "count    2.287000e+03  \n",
       "mean     4.800447e+08  \n",
       "std      5.558762e+08  \n",
       "min      5.000000e+05  \n",
       "25%      8.688042e+07  \n",
       "50%      2.744280e+08  \n",
       "75%      6.586272e+08  \n",
       "max      3.160104e+09  "
      ]
     },
     "execution_count": 12,
     "metadata": {},
     "output_type": "execute_result"
    }
   ],
   "source": [
    "high = df[\"new_listing_land_area_sqft\"].quantile(0.90)\n",
    "low = df[\"new_listing_land_area_sqft\"].quantile(0.10)\n",
    "df = df[(df[\"new_listing_land_area_sqft\"] < high)& (df[\"new_listing_land_area_sqft\"] > low)]\n",
    "df.describe()"
   ]
  },
  {
   "cell_type": "markdown",
   "id": "6110fdec",
   "metadata": {},
   "source": [
    "## Listings based on number of rooms"
   ]
  },
  {
   "cell_type": "code",
   "execution_count": 13,
   "id": "c0e22c2e",
   "metadata": {},
   "outputs": [
    {
     "data": {
      "image/png": "[encoded data removed]",
      "text/plain": [
       "<Figure size 432x288 with 1 Axes>"
      ]
     },
     "metadata": {
      "needs_background": "light"
     },
     "output_type": "display_data"
    }
   ],
   "source": [
    "listing_by_room = df.groupby(['unit_summary_history_bedrooms']).size()\n",
    "listing_by_room.plot(kind=\"bar\");"
   ]
  },
  {
   "cell_type": "code",
   "execution_count": 14,
   "id": "ab093a70",
   "metadata": {
    "scrolled": true
   },
   "outputs": [
    {
     "data": {
      "text/plain": [
       "unit_summary_history_bedrooms\n",
       "3.0    1305\n",
       "1.0     448\n",
       "2.0     249\n",
       "4.0      66\n",
       "1.5      31\n",
       "2.5      11\n",
       "3.5       6\n",
       "4.5       3\n",
       "5.0       3\n",
       "dtype: int64"
      ]
     },
     "execution_count": 14,
     "metadata": {},
     "output_type": "execute_result"
    }
   ],
   "source": [
    "listing_by_room = listing_by_room.sort_values(ascending=False) \n",
    "listing_by_room"
   ]
  },
  {
   "cell_type": "markdown",
   "id": "7e48c9ef",
   "metadata": {},
   "source": [
    "## LR Model"
   ]
  },
  {
   "cell_type": "code",
   "execution_count": 15,
   "id": "258053ba",
   "metadata": {},
   "outputs": [
    {
     "data": {
      "text/plain": [
       "(2287, 1)"
      ]
     },
     "execution_count": 15,
     "metadata": {},
     "output_type": "execute_result"
    }
   ],
   "source": [
    "features = [\"new_listing_land_area_sqft\"]\n",
    "X_train = df[features]\n",
    "X_train.shape"
   ]
  },
  {
   "cell_type": "code",
   "execution_count": 16,
   "id": "0ae20fcd",
   "metadata": {},
   "outputs": [
    {
     "data": {
      "text/plain": [
       "(2287,)"
      ]
     },
     "execution_count": 16,
     "metadata": {},
     "output_type": "execute_result"
    }
   ],
   "source": [
    "target = \"property_price\"\n",
    "y_train = df[target]\n",
    "y_train.shape"
   ]
  },
  {
   "cell_type": "code",
   "execution_count": 17,
   "id": "629d146a",
   "metadata": {},
   "outputs": [
    {
     "data": {
      "text/plain": [
       "480044743.40256286"
      ]
     },
     "execution_count": 17,
     "metadata": {},
     "output_type": "execute_result"
    }
   ],
   "source": [
    "y_mean = y_train.mean()\n",
    "y_mean"
   ]
  },
  {
   "cell_type": "code",
   "execution_count": 18,
   "id": "700b7e1c",
   "metadata": {},
   "outputs": [],
   "source": [
    "y_pred_baseline = [y_mean]*len(y_train)"
   ]
  },
  {
   "cell_type": "code",
   "execution_count": 19,
   "id": "5db793f1",
   "metadata": {},
   "outputs": [
    {
     "data": {
      "image/png": "[encoded data removed]",
      "text/plain": [
       "<Figure size 432x288 with 1 Axes>"
      ]
     },
     "metadata": {
      "needs_background": "light"
     },
     "output_type": "display_data"
    }
   ],
   "source": [
    "plt.plot(X_train)\n",
    "plt.scatter(X_train, y_train)\n",
    "plt.xlabel(\"Area [sq meters]\")\n",
    "plt.ylabel(\"Price\")\n",
    "plt.title(\"Price vs. Area\");"
   ]
  },
  {
   "cell_type": "code",
   "execution_count": 20,
   "id": "10acb9dc",
   "metadata": {},
   "outputs": [
    {
     "name": "stdout",
     "output_type": "stream",
     "text": [
      "Mean apt price 480044743.4\n",
      "Baseline MAE: 410973613.64\n"
     ]
    }
   ],
   "source": [
    "mae_baseline = mean_absolute_error(y_train, y_pred_baseline)\n",
    "\n",
    "print(\"Mean apt price\", round(y_mean, 2))\n",
    "print(\"Baseline MAE:\", round(mae_baseline, 2))"
   ]
  },
  {
   "cell_type": "code",
   "execution_count": 21,
   "id": "b6df6ef2",
   "metadata": {},
   "outputs": [
    {
     "data": {
      "text/plain": [
       "LinearRegression()"
      ]
     },
     "execution_count": 21,
     "metadata": {},
     "output_type": "execute_result"
    }
   ],
   "source": [
    "model = LinearRegression()\n",
    "model.fit(X_train, y_train)"
   ]
  },
  {
   "cell_type": "code",
   "execution_count": 22,
   "id": "5db68183",
   "metadata": {},
   "outputs": [
    {
     "data": {
      "text/plain": [
       "array([9.78369931e+07, 4.07811693e+08, 9.94250314e+08, 4.38122176e+08,\n",
       "       8.77837596e+07])"
      ]
     },
     "execution_count": 22,
     "metadata": {},
     "output_type": "execute_result"
    }
   ],
   "source": [
    "y_pred_training = model.predict(X_train)\n",
    "y_pred_training[:5]"
   ]
  },
  {
   "cell_type": "code",
   "execution_count": 23,
   "id": "a4f36ede",
   "metadata": {},
   "outputs": [
    {
     "name": "stdout",
     "output_type": "stream",
     "text": [
      "Training MAE: 208603484.96\n"
     ]
    }
   ],
   "source": [
    "mae_training = mean_absolute_error(y_train, y_pred_training)\n",
    "print(\"Training MAE:\", round(mae_training, 2))"
   ]
  },
  {
   "cell_type": "code",
   "execution_count": 24,
   "id": "23235ee1",
   "metadata": {},
   "outputs": [
    {
     "name": "stdout",
     "output_type": "stream",
     "text": [
      "Model Intercept: 72703909.3\n"
     ]
    }
   ],
   "source": [
    "intercept = round(model.intercept_, 2)\n",
    "print(\"Model Intercept:\", intercept)\n",
    "assert any([isinstance(intercept, int), isinstance(intercept, float)])"
   ]
  },
  {
   "cell_type": "code",
   "execution_count": 25,
   "id": "bb770687",
   "metadata": {},
   "outputs": [
    {
     "name": "stdout",
     "output_type": "stream",
     "text": [
      "Model coefficient for \"surface_covered_in_m2\": 3846.51\n"
     ]
    }
   ],
   "source": [
    "coefficient = round(model.coef_[0],2)\n",
    "print('Model coefficient for \"surface_covered_in_m2\":', coefficient)\n",
    "assert any([isinstance(coefficient, int), isinstance(coefficient, float)])"
   ]
  },
  {
   "cell_type": "code",
   "execution_count": 26,
   "id": "72de64ba",
   "metadata": {},
   "outputs": [
    {
     "name": "stdout",
     "output_type": "stream",
     "text": [
      "apt_price = 72703909.3 + 3846.51 * surface covered\n"
     ]
    }
   ],
   "source": [
    "print(f\"apt_price = {intercept} + {coefficient} * surface covered\")"
   ]
  },
  {
   "cell_type": "code",
   "execution_count": null,
   "id": "76583b58",
   "metadata": {},
   "outputs": [],
   "source": []
  }
 ],
 "metadata": {
  "kernelspec": {
   "display_name": "Python 3 (ipykernel)",
   "language": "python",
   "name": "python3"
  },
  "language_info": {
   "codemirror_mode": {
    "name": "ipython",
    "version": 3
   },
   "file_extension": ".py",
   "mimetype": "text/x-python",
   "name": "python",
   "nbconvert_exporter": "python",
   "pygments_lexer": "ipython3",
   "version": "3.9.12"
  }
 },
 "nbformat": 4,
 "nbformat_minor": 5
}
